{
 "cells": [
  {
   "cell_type": "markdown",
   "metadata": {},
   "source": [
    "## Run a Jupyter Notebook on NYU Cluster: pdf_combine\n",
    "\n",
    "The purpose of this notebook is to facilitate the use of the [High Performance Computing at NYU](https://wikis.nyu.edu/display/NYUHPC/High+Performance+Computing+at+NYU). Use this Jupyter Notebook to:\n",
    "- Login to the bastion host __gw.hpc.nyu.edu__ [[Link](https://wikis.nyu.edu/display/NYUHPC/Logging+in+to+the+NYU+HPC+Clusters)]\n",
    "\n",
    "\n",
    "- Login to the HPC cluster Prince __prince.hpc.nyu.edu__ [[Link](https://wikis.nyu.edu/display/NYUHPC/Clusters)]\n",
    "\n",
    "\n",
    "- Sync `/home/$USER` and `/beegfs/$USER` file systems [[Link](https://wikis.nyu.edu/display/NYUHPC/Storage)].\n",
    "    - My virtual env are stored in `/home/$USER/pyenv/epdf_combine`\n",
    "    \n",
    "    - My notebooks are stored in `/home/$USER/notebooks/pdf_combine`\n",
    "    \n",
    "\n",
    "- Load module Python 3.6.3 [[Link](https://wikis.nyu.edu/display/NYUHPC/Software+and+Environment+Modules)]\n",
    "\n",
    "\n",
    "- Create or activate a epdf_combine environment\n",
    "\n",
    "\n",
    "- Configure and submit a bash script [[Link](https://wikis.nyu.edu/display/NYUHPC/Submitting+jobs+with+sbatch)]\n",
    "\n",
    "\n",
    "- Check status of job [[Link](https://wikis.nyu.edu/display/NYUHPC/Slurm+Tutorial)]\n",
    "\n",
    "\n",
    "- Concatenate slurm-job_number\n",
    "\n",
    "    - Get a simple terminal command to login to Prince\n",
    "\n",
    "    - Get URL to access jupyter notebook\n",
    "    \n",
    "\n",
    "- Cancel job and delete slurm-job_number.out\n",
    "\n",
    "\n",
    "- Repeat sync `/beegfs/$USER` and `/home/$USER` file systems"
   ]
  },
  {
   "cell_type": "markdown",
   "metadata": {},
   "source": [
    "### Imports"
   ]
  },
  {
   "cell_type": "code",
   "execution_count": null,
   "metadata": {},
   "outputs": [],
   "source": [
    "# pip install paramiko"
   ]
  },
  {
   "cell_type": "code",
   "execution_count": null,
   "metadata": {},
   "outputs": [],
   "source": [
    "import os, paramiko, re, time, webbrowser\n",
    "import ipywidgets as widgets\n",
    "from IPython.display import clear_output, display, HTML"
   ]
  },
  {
   "cell_type": "markdown",
   "metadata": {},
   "source": [
    "### Bastion, Cluster, User, Password"
   ]
  },
  {
   "cell_type": "code",
   "execution_count": null,
   "metadata": {},
   "outputs": [],
   "source": [
    "bastion = 'gw.hpc.nyu.edu'\n",
    "cluster = 'prince.hpc.nyu.edu'"
   ]
  },
  {
   "cell_type": "code",
   "execution_count": null,
   "metadata": {
    "scrolled": true
   },
   "outputs": [],
   "source": [
    "def on_value_change(change=1):\n",
    "    global widgets_user\n",
    "    try:\n",
    "        chosen1 = widgets_user.value       \n",
    "    except NameError:\n",
    "        chosen1 = \"\"    \n",
    "    global widgets_password    \n",
    "    try:\n",
    "        chosen2 = widgets_password.value       \n",
    "    except NameError:\n",
    "        chosen2 = \"\"          \n",
    "   \n",
    "    widgets_user = widgets.Text(value=chosen1, placeholder='Type your NetID', description='NetID:', disabled=False) \n",
    "    widgets_password = widgets.Password(value=chosen2, placeholder='Type your password', description='Password:', disabled=False)   \n",
    "    clear_output()    \n",
    "    widgets_user.observe(on_value_change, names='name')    \n",
    "    display(widgets_user, widgets_password)   \n",
    "on_value_change(change=1)"
   ]
  },
  {
   "cell_type": "code",
   "execution_count": null,
   "metadata": {},
   "outputs": [],
   "source": [
    "user = widgets_user.value\n",
    "passwd = widgets_password.value"
   ]
  },
  {
   "cell_type": "markdown",
   "metadata": {},
   "source": [
    "### Faction that executes SSH commands using [Paramiko](http://www.paramiko.org/)"
   ]
  },
  {
   "cell_type": "code",
   "execution_count": null,
   "metadata": {},
   "outputs": [],
   "source": [
    "def ssh_comm(cluster, user, passwd, command = \"\"):\n",
    "    client = paramiko.SSHClient()\n",
    "    client.set_missing_host_key_policy(paramiko.AutoAddPolicy())\n",
    "    client.connect(cluster, username=user, password=passwd)\n",
    "    ssh_session = client.get_transport().open_session()\n",
    "    if ssh_session.active:\n",
    "        ssh_session.exec_command(command)\n",
    "    return"
   ]
  },
  {
   "cell_type": "markdown",
   "metadata": {},
   "source": [
    "### Log in to bastion host"
   ]
  },
  {
   "cell_type": "code",
   "execution_count": null,
   "metadata": {},
   "outputs": [],
   "source": [
    "ssh_comm(bastion, user, passwd)"
   ]
  },
  {
   "cell_type": "markdown",
   "metadata": {},
   "source": [
    "### Sync between `/home/$USER` and `/beegfs/$USER` \n",
    "Sync the virtual env and the notebooks. The distination (`/beegfs/$USER`) is going to mirror the source directory (`/home/$USER`). __Extraneous files from destination directory are going to be deleted.__ Enter \"Yes\" to continue."
   ]
  },
  {
   "cell_type": "code",
   "execution_count": null,
   "metadata": {},
   "outputs": [],
   "source": [
    "person = input('Be careful! Do you want to sync /home and /beegfs? ')\n",
    "if person == \"Yes\":\n",
    "    ssh_comm(cluster, user, passwd, \"\"\"rsync -av --delete /home/$USER/pyenv/epdf_combine/ --rsync-path=\"mkdir -p /beegfs/$USER/pyenv/epdf_combine/ && rsync\" /beegfs/$USER/pyenv/epdf_combine\n",
    "    rsync -av --delete /home/$USER/notebooks/pdf_combine/ --rsync-path=\"mkdir -p /beegfs/$USER/notebooks/pdf_combine/ && rsync\" /beegfs/$USER/notebooks/pdf_combine\"\"\")"
   ]
  },
  {
   "cell_type": "markdown",
   "metadata": {},
   "source": [
    "### Create or activate a pdf_combine environment in `/beegfs/$USER`"
   ]
  },
  {
   "cell_type": "code",
   "execution_count": null,
   "metadata": {},
   "outputs": [],
   "source": [
    "person = input('Do you want to create a new virtual env?: ')\n",
    "if person == \"Yes\":\n",
    "    ssh_comm(cluster, user, passwd, \"\"\"\n",
    "        module purge\n",
    "        module load python3/intel/3.6.3\n",
    "        cd /beegfs/$USER/pyenv\n",
    "        virtualenv --system-site-packages epdf_combine\n",
    "        source /beegfs/$USER/pyenv/epdf_combine/bin/activate\n",
    "        pip3 install -I jupyter\n",
    "\n",
    "    \"\"\")\n",
    "else:\n",
    "    ssh_comm(cluster, user, passwd, \"\"\"module purge \\n\n",
    "        module load python3/intel/3.6.3 \\n\n",
    "        source /beegfs/$USER/pyenv/epdf_combine/bin/activate \\n\"\"\")"
   ]
  },
  {
   "cell_type": "markdown",
   "metadata": {},
   "source": [
    "### Create bash script file"
   ]
  },
  {
   "cell_type": "code",
   "execution_count": null,
   "metadata": {},
   "outputs": [],
   "source": [
    "def new_bashscript(cluster, user, passwd, command):\n",
    "    client = paramiko.SSHClient()\n",
    "    client.set_missing_host_key_policy(paramiko.AutoAddPolicy())\n",
    "    client.connect(cluster, port=22, username=user, password=passwd)\n",
    "    ssh_session = client.get_transport().open_session()\n",
    "    stdin, stdout, stderr = client.exec_command(command)\n",
    "    output = stderr.readlines()\n",
    "\n",
    "    print(output)\n",
    "    return               \n",
    "new_bashscript(cluster, user, passwd, r\"\"\"echo '#!/bin/bash\n",
    " \n",
    "#SBATCH --job-name=pdf_combine\n",
    "#SBATCH --nodes=1\n",
    "#SBATCH --ntasks-per-node=1\n",
    "#SBATCH --cpus-per-task=4\n",
    "#SBATCH --mem=64GB\n",
    " \n",
    "## For a gpu card:\n",
    "##SBATCH --gres=gpu:1\n",
    "## For a specific card:\n",
    "##SBATCH  --gres=gpu:v100:1\n",
    " \n",
    "#SBATCH --time=48:00:00\n",
    "#SBATCH --mail-type=END\n",
    "#SBATCH --mail-user=$USER@nyu.edu\n",
    "#SBATCH --output=slurm_%j.out\n",
    " \n",
    "module purge\n",
    "module load python3/intel/3.6.3\n",
    "source /beegfs/$USER/pyenv/epdf_combine/bin/activate\n",
    " \n",
    "port=$(shuf -i 10000-65500 -n 1)\n",
    " \n",
    "/usr/bin/ssh -N -f -R $port:localhost:$port log-0\n",
    "/usr/bin/ssh -N -f -R $port:localhost:$port log-1\n",
    " \n",
    "cat<<EOF\n",
    " \n",
    "ssh -L $port:localhost:$port $USER@prince.hpc.nyu.edu\n",
    "\n",
    "$(hostname)\n",
    " \n",
    "EOF\n",
    " \n",
    "unset XDG_RUNTIME_DIR\n",
    "if [ \"$SLURM_JOBTMP\" != \"\" ]; then\n",
    "    export XDG_RUNTIME_DIR=$SLURM_JOBTMP\n",
    "fi\n",
    " \n",
    "jupyter notebook --no-browser --port $port --notebook-dir=$(pwd)' > /beegfs/$USER/notebooks/pdf_combine/pdf_combine.sh\"\"\")"
   ]
  },
  {
   "cell_type": "markdown",
   "metadata": {},
   "source": [
    "### Run bash script"
   ]
  },
  {
   "cell_type": "code",
   "execution_count": null,
   "metadata": {},
   "outputs": [],
   "source": [
    "ssh_comm(cluster, user, passwd, \"\"\"\n",
    "    cd /beegfs/$USER/notebooks/pdf_combine \\n\n",
    "    sbatch pdf_combine.sh\"\"\") #"
   ]
  },
  {
   "cell_type": "markdown",
   "metadata": {},
   "source": [
    "### Check status of job in Slarm\n",
    "Function that checks if the sumbitted job has a R (\"Running\") status. It returns the number of the job."
   ]
  },
  {
   "cell_type": "code",
   "execution_count": null,
   "metadata": {},
   "outputs": [],
   "source": [
    "def status_check(cluster, user, passwd):\n",
    "    client = paramiko.SSHClient()\n",
    "    client.set_missing_host_key_policy(paramiko.AutoAddPolicy())\n",
    "    client.connect(cluster, username=user, password=passwd)\n",
    "    ssh_session = client.get_transport().open_session()\n",
    "    if ssh_session.active:\n",
    "        ssh_session.exec_command(\"squeue -u \" + user)  \n",
    "        status = str(ssh_session.recv(1024))\n",
    "        status = re.sub(\"  \", \" \", status)\n",
    "        attempts = 0\n",
    "        while attempts < 5:\n",
    "            job = str(re.findall(r'(\\d{7})', status)).replace(\"'\", \"\").replace(\"[\",\"\").replace(\"]\",\"\")   \n",
    "            if job != \"\":\n",
    "                attempts += 5\n",
    "            else:\n",
    "                attempts += 1\n",
    "                time.sleep(8)\n",
    "                print(attempts) \n",
    "    return job"
   ]
  },
  {
   "cell_type": "markdown",
   "metadata": {},
   "source": [
    "##### It may take some time..."
   ]
  },
  {
   "cell_type": "code",
   "execution_count": null,
   "metadata": {},
   "outputs": [],
   "source": [
    "job_number = str(status_check(cluster, user, passwd)); job_number"
   ]
  },
  {
   "cell_type": "markdown",
   "metadata": {},
   "source": [
    "### Concatenate  slurm-job_number.out\n",
    "NB: You may need rerun the cell it until it works"
   ]
  },
  {
   "cell_type": "code",
   "execution_count": null,
   "metadata": {},
   "outputs": [],
   "source": [
    "concatenate = \"cat slurm-\" + job_number ; concatenate\n",
    "ssh_comm(cluster, user, passwd, concatenate)"
   ]
  },
  {
   "cell_type": "markdown",
   "metadata": {},
   "source": [
    "### Jupyter and ssh\n",
    "Function that returns a URL for Jupyter Notebook and a ssh command"
   ]
  },
  {
   "cell_type": "code",
   "execution_count": null,
   "metadata": {
    "scrolled": true
   },
   "outputs": [],
   "source": [
    "def port_and_ssh(cluster, user, passwd, x=0):\n",
    "    client = paramiko.SSHClient()\n",
    "    client.set_missing_host_key_policy(paramiko.AutoAddPolicy())\n",
    "    client.connect(cluster, port=22, username=user, password=passwd)\n",
    "    ssh_session = client.get_transport().open_session()\n",
    "    stdin, stdout, stderr = client.exec_command(\"cat /beegfs/$USER/notebooks/pdf_combine/slurm_\"+job_number+\".out\")\n",
    "    output = stdout.readlines()\n",
    "    attempts = 0\n",
    "    test = re.findall(r'(ssh.*?edu)\\\\n', str(output))\n",
    "    if test or x>4:\n",
    "        sshpass = str(\"sshpass -p '\"+passwd+\"' ssh -o StrictHostKeyChecking=no \" + re.findall(r'ssh (.*?edu)\\\\n', str(output))[0])\n",
    "        jupyter = re.findall(r'(http://localhost.*?)\\\\n', str(output))[0]\n",
    "        attempts += 5\n",
    "        return sshpass, display(HTML('<a href=\"'+jupyter+'\">Click to run Jupyter</a>'))\n",
    "        \n",
    "    else:\n",
    "        print(\"Attempt %x out of 5\" % int(x+1))\n",
    "        time.sleep(5)\n",
    "        return port_and_ssh(cluster, user, passwd, x+1)"
   ]
  },
  {
   "cell_type": "markdown",
   "metadata": {},
   "source": [
    "##### Run the line below in bash.  Clear the output when you finish!\n",
    "_Depending on the queue of the cluster, it may take some time..._"
   ]
  },
  {
   "cell_type": "code",
   "execution_count": null,
   "metadata": {},
   "outputs": [],
   "source": [
    "secureshell = port_and_ssh(cluster, user, passwd)[0]; secureshell"
   ]
  },
  {
   "cell_type": "markdown",
   "metadata": {},
   "source": [
    "### Cancel job and delete slurm-job_number.out\n",
    "\n",
    "Type \"Yes\" if you have finished your work"
   ]
  },
  {
   "cell_type": "code",
   "execution_count": null,
   "metadata": {},
   "outputs": [],
   "source": [
    "person = input('Do you want to cancel your job and delete the slurm-job_number.out file?: ')\n",
    "if person == \"Yes\":\n",
    "    ssh_comm(cluster, user, passwd, 'scancel '+job_number)\n",
    "    ssh_comm(cluster, user, passwd, 'rm /beegfs/$USER/notebooks/pdf_combine/slurm_'+job_number+'.out')"
   ]
  },
  {
   "cell_type": "markdown",
   "metadata": {},
   "source": [
    "### Sync between `/beegfs/$USER` and `/home/$USER` \n",
    "Sync the virtual env and the notebooks. The distination (`/home/$USER`) is going to mirror the source directory (`/beegfs/$USER`). __Extraneous files from destination directory are going to be deleted.__ Enter \"Yes\" to continue."
   ]
  },
  {
   "cell_type": "code",
   "execution_count": null,
   "metadata": {},
   "outputs": [],
   "source": [
    "person = input('Be careful! Do you want to sync /beegfs and /home? ')\n",
    "if person == \"Yes\":\n",
    "    ssh_comm(cluster, user, passwd, \"\"\"rsync -av --delete /beegfs/$USER/notebooks/pdf_combine/ /home/$USER/notebooks/pdf_combine\n",
    "    rsync -av --delete /beegfs/$USER/notebooks/pdf_combine/ /home/$USER/notebooks/pdf_combine\"\"\")"
   ]
  },
  {
   "cell_type": "markdown",
   "metadata": {},
   "source": [
    "---"
   ]
  }
 ],
 "metadata": {
  "kernelspec": {
   "display_name": "Python 3",
   "language": "python",
   "name": "python3"
  },
  "language_info": {
   "codemirror_mode": {
    "name": "ipython",
    "version": 3
   },
   "file_extension": ".py",
   "mimetype": "text/x-python",
   "name": "python",
   "nbconvert_exporter": "python",
   "pygments_lexer": "ipython3",
   "version": "3.7.6"
  },
  "widgets": {
   "application/vnd.jupyter.widget-state+json": {
    "state": {
     "1668f883324e42e1a6495ad3392b1d8e": {
      "model_module": "@jupyter-widgets/controls",
      "model_module_version": "1.5.0",
      "model_name": "DescriptionStyleModel",
      "state": {
       "description_width": ""
      }
     },
     "6b812e99d69c40a9ad955076258be773": {
      "model_module": "@jupyter-widgets/controls",
      "model_module_version": "1.5.0",
      "model_name": "DescriptionStyleModel",
      "state": {
       "description_width": ""
      }
     },
     "7163689c95074fd2872a0348a4767dbf": {
      "model_module": "@jupyter-widgets/controls",
      "model_module_version": "1.5.0",
      "model_name": "TextModel",
      "state": {
       "description": "NetID:",
       "layout": "IPY_MODEL_f79ab50e7d1f46079761b4824ab6d552",
       "placeholder": "Type your NetID",
       "style": "IPY_MODEL_6b812e99d69c40a9ad955076258be773"
      }
     },
     "f79ab50e7d1f46079761b4824ab6d552": {
      "model_module": "@jupyter-widgets/base",
      "model_module_version": "1.2.0",
      "model_name": "LayoutModel",
      "state": {}
     },
     "fa2383ebea0749f4aaf59e520db8ecdd": {
      "model_module": "@jupyter-widgets/controls",
      "model_module_version": "1.5.0",
      "model_name": "PasswordModel",
      "state": {
       "description": "Password:",
       "layout": "IPY_MODEL_fdd126dbff454236a62c8278bc7c81e4",
       "placeholder": "Type your password",
       "style": "IPY_MODEL_1668f883324e42e1a6495ad3392b1d8e"
      }
     },
     "fdd126dbff454236a62c8278bc7c81e4": {
      "model_module": "@jupyter-widgets/base",
      "model_module_version": "1.2.0",
      "model_name": "LayoutModel",
      "state": {}
     }
    },
    "version_major": 2,
    "version_minor": 0
   }
  }
 },
 "nbformat": 4,
 "nbformat_minor": 2
}
